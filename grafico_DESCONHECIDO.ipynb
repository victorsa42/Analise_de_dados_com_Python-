{
  "nbformat": 4,
  "nbformat_minor": 0,
  "metadata": {
    "colab": {
      "provenance": [],
      "authorship_tag": "ABX9TyOF30pJTWLl2Url7y5ZQt8e",
      "include_colab_link": true
    },
    "kernelspec": {
      "name": "python3",
      "display_name": "Python 3"
    },
    "language_info": {
      "name": "python"
    }
  },
  "cells": [
    {
      "cell_type": "markdown",
      "metadata": {
        "id": "view-in-github",
        "colab_type": "text"
      },
      "source": [
        "<a href=\"https://colab.research.google.com/github/victorsa42/Analise_de_dados_com_Python-/blob/main/grafico_DESCONHECIDO.ipynb\" target=\"_parent\"><img src=\"https://colab.research.google.com/assets/colab-badge.svg\" alt=\"Open In Colab\"/></a>"
      ]
    },
    {
      "cell_type": "markdown",
      "metadata": {
        "id": "4qjtAoKcTOJ3"
      },
      "source": [
        "links para entender melhor:\n",
        "* https://www.youtube.com/watch?v=t1d0gZ99G_Y\n",
        "* https://www.youtube.com/watch?v=tnhjAziFT-Q\n",
        "* https://matplotlib.org/stable/gallery/index.html\n",
        "* https://docs.scipy.org/doc/scipy/reference/generated/scipy.optimize.curve_fit.html\n",
        "\n",
        "\n"
      ]
    },
    {
      "cell_type": "code",
      "metadata": {
        "id": "odUmupKZPexf"
      },
      "source": [
        "# importar modulos\n",
        "import matplotlib.pyplot as plt  #modulo grafico\n",
        "import numpy as np  #modulo matematico\n",
        "import pandas as pd #modulo para analise de dados\n",
        "from scipy.optimize import curve_fit #biblioteca cientifica responsavel por fitar uma  curva "
      ],
      "execution_count": null,
      "outputs": []
    },
    {
      "cell_type": "code",
      "metadata": {
        "id": "EzlqCtFZFIDN",
        "colab": {
          "base_uri": "https://localhost:8080/"
        },
        "outputId": "a028928b-cee5-4145-e839-19edeb968111"
      },
      "source": [
        "\n",
        "# importar google drive e autenticação\n",
        "from google.colab import drive,auth \n",
        "drive.mount('/content/gdrive', force_remount = True )\n",
        "\n",
        "# importar google planilhas (sheet)\n",
        "from google.colab import auth\n",
        "auth.authenticate_user()\n",
        "import gspread  # modulo do google sheet\n",
        "from oauth2client.client import GoogleCredentials  #credenciais do google\n",
        "\n",
        "## autenticação do modulo gspread\n",
        "gc = gspread.authorize(GoogleCredentials.get_application_default())"
      ],
      "execution_count": null,
      "outputs": [
        {
          "output_type": "stream",
          "name": "stdout",
          "text": [
            "Mounted at /content/gdrive\n"
          ]
        }
      ]
    },
    {
      "cell_type": "code",
      "metadata": {
        "colab": {
          "base_uri": "https://localhost:8080/",
          "height": 300
        },
        "id": "ssdgVFI2SkRd",
        "outputId": "fd481e57-0d41-4fa2-ceac-7a3e566874d3"
      },
      "source": [
        "# abrir o arquivo do sheet pelo nome\n",
        "wb = gc.open('esfera')\n",
        "### abrir pelo link\n",
        "# wb = gc.open_by_url('https://docs.google.com/spreadsheets/d/1y8Yl6hQ9dwVGj_ouwqjKYWyssjSNir0b2EFQCVLHxh0/edit#gid=0')\n",
        "\n",
        "sheet1 = wb.worksheet('Página1')\n",
        "#sheet1.get_all_values()  ###pega todos os valores \n",
        "dados = sheet1.get_all_records()  ###pega todos os valores sendo a primeira linha o titulo\n",
        "\n",
        "df = pd.DataFrame(dados)\n",
        "df"
      ],
      "execution_count": null,
      "outputs": [
        {
          "output_type": "execute_result",
          "data": {
            "text/html": [
              "<div>\n",
              "<style scoped>\n",
              "    .dataframe tbody tr th:only-of-type {\n",
              "        vertical-align: middle;\n",
              "    }\n",
              "\n",
              "    .dataframe tbody tr th {\n",
              "        vertical-align: top;\n",
              "    }\n",
              "\n",
              "    .dataframe thead th {\n",
              "        text-align: right;\n",
              "    }\n",
              "</style>\n",
              "<table border=\"1\" class=\"dataframe\">\n",
              "  <thead>\n",
              "    <tr style=\"text-align: right;\">\n",
              "      <th></th>\n",
              "      <th>T</th>\n",
              "      <th>A</th>\n",
              "      <th>erro T</th>\n",
              "      <th>erro A</th>\n",
              "    </tr>\n",
              "  </thead>\n",
              "  <tbody>\n",
              "    <tr>\n",
              "      <th>0</th>\n",
              "      <td>0.13</td>\n",
              "      <td>10.0</td>\n",
              "      <td>0.05</td>\n",
              "      <td>1</td>\n",
              "    </tr>\n",
              "    <tr>\n",
              "      <th>1</th>\n",
              "      <td>0.30</td>\n",
              "      <td>40.0</td>\n",
              "      <td>0.05</td>\n",
              "      <td>1</td>\n",
              "    </tr>\n",
              "    <tr>\n",
              "      <th>2</th>\n",
              "      <td>0.37</td>\n",
              "      <td>70.0</td>\n",
              "      <td>0.05</td>\n",
              "      <td>1</td>\n",
              "    </tr>\n",
              "    <tr>\n",
              "      <th>3</th>\n",
              "      <td>0.43</td>\n",
              "      <td>90.0</td>\n",
              "      <td>0.05</td>\n",
              "      <td>1</td>\n",
              "    </tr>\n",
              "    <tr>\n",
              "      <th>4</th>\n",
              "      <td>0.50</td>\n",
              "      <td>110.0</td>\n",
              "      <td>0.05</td>\n",
              "      <td>1</td>\n",
              "    </tr>\n",
              "    <tr>\n",
              "      <th>5</th>\n",
              "      <td>0.53</td>\n",
              "      <td>130.0</td>\n",
              "      <td>0.05</td>\n",
              "      <td>1</td>\n",
              "    </tr>\n",
              "    <tr>\n",
              "      <th>6</th>\n",
              "      <td>0.58</td>\n",
              "      <td>150.0</td>\n",
              "      <td>0.05</td>\n",
              "      <td>1</td>\n",
              "    </tr>\n",
              "    <tr>\n",
              "      <th>7</th>\n",
              "      <td>0.60</td>\n",
              "      <td>170.0</td>\n",
              "      <td>0.05</td>\n",
              "      <td>1</td>\n",
              "    </tr>\n",
              "  </tbody>\n",
              "</table>\n",
              "</div>"
            ],
            "text/plain": [
              "      T      A  erro T  erro A\n",
              "0  0.13   10.0    0.05       1\n",
              "1  0.30   40.0    0.05       1\n",
              "2  0.37   70.0    0.05       1\n",
              "3  0.43   90.0    0.05       1\n",
              "4  0.50  110.0    0.05       1\n",
              "5  0.53  130.0    0.05       1\n",
              "6  0.58  150.0    0.05       1\n",
              "7  0.60  170.0    0.05       1"
            ]
          },
          "metadata": {},
          "execution_count": 3
        }
      ]
    },
    {
      "cell_type": "code",
      "metadata": {
        "id": "iNoDHiYOQ08z"
      },
      "source": [
        "# equção a ser usada\n",
        "def func(x, g, v, s):\n",
        "    return 0.5*g*x**2  + v*x + s"
      ],
      "execution_count": null,
      "outputs": []
    },
    {
      "cell_type": "code",
      "metadata": {
        "id": "8fCqj-BISHAp"
      },
      "source": [
        "#x = np.array([1, 2, 2.5, 6, 7.8, 9.6])\n",
        "# x= np.linspace(1,7,50)"
      ],
      "execution_count": null,
      "outputs": []
    },
    {
      "cell_type": "code",
      "metadata": {
        "colab": {
          "base_uri": "https://localhost:8080/",
          "height": 410
        },
        "id": "GkcG2fkxR6r3",
        "outputId": "b5936502-0a7f-4e9c-b591-fd37d45f9813"
      },
      "source": [
        "#criar uma figura que sera o grafico\n",
        "fig, ax = plt.subplots(figsize = (9,6))\n",
        "nomefig = 'Grafico1.png'\n",
        "\n",
        "#ajuste\n",
        "popt, pcov = curve_fit(func, x, y)\n",
        "popt\n",
        "\n",
        "#valores dos eixos referentes as colunas da tabela \n",
        "x = np.array(df['T'])\n",
        "y = np.array(df['A'])\n",
        "c = np.array(df['erro T'])/2\n",
        "d = np.array(df['erro A'])*5\n",
        "\n",
        "\n",
        "# plotar o grafico\n",
        "ax.plot(x ,y , marker = 'o', label=\"esfera\", ls = '', lw = '1')\n",
        "\n",
        "# plot do ajuste\n",
        "plt.plot(x, func(x, *popt), 'r-', label='fit: g=$%5.3f$, v=%5.3f, s=%5.3f' % tuple(popt))\n",
        "\n",
        "#configurações do grafico\n",
        "tamanhofont=14\n",
        "ax.errorbar(x,y, xerr=c, yerr=d, fmt=\"ks\", color=\"b\", label='erro', capsize=2 ,ecolor='b') #barra de erro\n",
        "ax.set_title('Nome', fontsize = 16) #titulo\n",
        "ax.set_xlabel('tempo', fontsize = tamanhofont) #nome do eixo x\n",
        "ax.set_ylabel('altura', fontsize = tamanhofont) #nome do eixo y\n",
        "ax.grid(ls= '--') #grid no grafico\n",
        "ax.legend(fontsize = 10) #legenda do grafico\n",
        "\n",
        "## salvar figura\n",
        "fig.savefig(nomefig)\n",
        "plt.show()"
      ],
      "execution_count": null,
      "outputs": [
        {
          "output_type": "display_data",
          "data": {
            "image/png": "[encoded data removed]",
            "text/plain": [
              "<Figure size 648x432 with 1 Axes>"
            ]
          },
          "metadata": {
            "needs_background": "light"
          }
        }
      ]
    }
  ]
}